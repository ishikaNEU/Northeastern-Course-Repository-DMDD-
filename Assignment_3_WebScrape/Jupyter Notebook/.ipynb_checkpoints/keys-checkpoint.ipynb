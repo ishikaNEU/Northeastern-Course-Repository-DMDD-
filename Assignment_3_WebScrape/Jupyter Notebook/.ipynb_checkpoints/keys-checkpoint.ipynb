{
 "cells": [
  {
   "cell_type": "code",
   "execution_count": 3,
   "id": "6691fa34",
   "metadata": {},
   "outputs": [],
   "source": [
    "API_Key= \"eYR5Ni67Nd12rgEb9H8LIapD8\"\n",
    "API_KEY_secret= \"CPeb11EARYCvVW6AyidiX3WvxGRxa8Aq7bi4ihYdJs3Fv2DfBn\"\n",
    "Bearer_Token= \"AAAAAAAAAAAAAAAAAAAAAL6XiQEAAAAACK8IPhfixHObQ4cTIXWHy0RuYHU%3DlFlmefdzhrX3wwnc63PcdZpmVoUNV2S6h7fg5vKrGhdWFwVPag\"\n",
    "   \n",
    "Access_Token=\"1583205059231240192-Vtu4zLpMvO8CJZhyB7aZ4VVYJvEn3d\"\n",
    "\n",
    "Access_token_secret=\"VRgRTWjPcGuvt7o9p5rCVR9EOM4ZPKu9Fj4g1OMpzE44z\"\n",
    "    "
   ]
  },
  {
   "cell_type": "code",
   "execution_count": null,
   "id": "0f80ea27",
   "metadata": {},
   "outputs": [],
   "source": []
  }
 ],
 "metadata": {
  "kernelspec": {
   "display_name": "Python 3 (ipykernel)",
   "language": "python",
   "name": "python3"
  },
  "language_info": {
   "codemirror_mode": {
    "name": "ipython",
    "version": 3
   },
   "file_extension": ".py",
   "mimetype": "text/x-python",
   "name": "python",
   "nbconvert_exporter": "python",
   "pygments_lexer": "ipython3",
   "version": "3.9.13"
  }
 },
 "nbformat": 4,
 "nbformat_minor": 5
}
